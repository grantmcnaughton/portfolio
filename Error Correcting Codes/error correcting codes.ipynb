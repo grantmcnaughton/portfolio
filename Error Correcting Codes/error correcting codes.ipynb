{
 "cells": [
  {
   "cell_type": "markdown",
   "id": "a7382d8b",
   "metadata": {},
   "source": [
    "# Error Correcting Codes (Reed-Solomon and Berlekamp-Welch)"
   ]
  },
  {
   "cell_type": "markdown",
   "id": "24b68f9f",
   "metadata": {},
   "source": [
    "## Utilities"
   ]
  },
  {
   "cell_type": "code",
   "execution_count": 1,
   "id": "ad413902",
   "metadata": {},
   "outputs": [],
   "source": [
    "# Libraries\n",
    "from random import sample, randint\n",
    "from numpy  import flipud, hstack, array, split, append\n",
    "from galois import GF, Poly\n",
    "\n",
    "# Wrappers\n",
    "def poly_from_coeffs(coefs):\n",
    "    # Input  : coefs  a list of coefficients in the ascending order of exponents\n",
    "    # Output : f      the corresponding polynomial\n",
    "    f = Poly(flipud(coefs))\n",
    "    return f\n",
    "\n",
    "def coeffs_from_poly(f,d):\n",
    "    # Input  : f   a polynomial\n",
    "    #       d   an upper bound on the degree of  f\n",
    "    # Output : coefs  the list of the coefficients of f viewed as degree d.\n",
    "    coefs = flipud(f.coeffs)\n",
    "    for i in range(d+1 - len(coefs)):\n",
    "        coefs = append(coefs,F(0))\n",
    "    return coefs\n",
    "\n",
    "def solve(A,b):\n",
    "    # Input  : A  a matrix\n",
    "    #       b  a vector\n",
    "    # Output : z  a solution of Az=b if exists, 'no solution'  else\n",
    "    #       w  True if a solution exits, False else\n",
    "    bs = -b.reshape(-1,1)\n",
    "    Ab = hstack([A,bs])\n",
    "    Ns = Ab.null_space()\n",
    "    for j in range(len(Ns)):\n",
    "        if Ns[j][-1] != 0: \n",
    "            z = (Ns[j]/Ns[j][-1])[0:-1]\n",
    "            return z, True\n",
    "    return 'no solution', False"
   ]
  },
  {
   "cell_type": "markdown",
   "id": "ffe9f64a",
   "metadata": {},
   "source": [
    "## Paramters for Reed-Solmon  and Berklekamp-Welch"
   ]
  },
  {
   "cell_type": "code",
   "execution_count": 2,
   "id": "9b0fa9b1",
   "metadata": {},
   "outputs": [],
   "source": [
    "# One begins by fixing a few basic parameters. \n",
    "# For this project, use the following.\n",
    "q = 151                       #  Field size\n",
    "n = q                         #  Code length\n",
    "k = n//2                      #  Message length\n",
    "e = (n-k) // 2                #  Maximum number of errors that can be corrected\n",
    "F = GF(q)                     #  Finite field\n",
    "a = F([i for i in range(n)])  #  Evaluation points"
   ]
  },
  {
   "cell_type": "markdown",
   "id": "79398e7f",
   "metadata": {},
   "source": [
    "## Field from Text"
   ]
  },
  {
   "cell_type": "code",
   "execution_count": 3,
   "id": "08f4ad73",
   "metadata": {},
   "outputs": [],
   "source": [
    "def field_from_text(t):\n",
    "    # Input:  t  a text message     (a string of characters)\n",
    "    # Output: m  the field message  (the list of field elements)\n",
    "    m = F([ord(tt) for tt in t])\n",
    "    return m"
   ]
  },
  {
   "cell_type": "code",
   "execution_count": 4,
   "id": "771137dd",
   "metadata": {},
   "outputs": [
    {
     "name": "stdout",
     "output_type": "stream",
     "text": [
      "[ 73  32 104  97 118 101  32 109  97 115 116 101 114 101 100  32  82 101\n",
      " 101 100  45  83 111 108 109 111 110  32 101 110  99 111 100 105 110 103\n",
      "  32  97 110 100  32  66 101 114 108 101 107  97 109 112  45  87 101 108\n",
      "  99 104  32 100 101  99 111 100 105 110 103  33  32  32  87 111 111 104\n",
      " 111 111  33]\n"
     ]
    }
   ],
   "source": [
    "# The following text has exactly k many characters.\n",
    "# If not, one can always chop the text into chunks of length k and run the program on each chunk.\n",
    "t = \"I have mastered Reed-Solmon encoding and Berlekamp-Welch decoding!  Woohoo!\"\n",
    "\n",
    "m = field_from_text(t)\n",
    "print(m)"
   ]
  },
  {
   "cell_type": "markdown",
   "id": "5591fd80",
   "metadata": {},
   "source": [
    "## Encode (Reed-Solomon)"
   ]
  },
  {
   "cell_type": "code",
   "execution_count": 5,
   "id": "e719566b",
   "metadata": {},
   "outputs": [],
   "source": [
    "def encode(m):\n",
    "    # Input:  m a field message\n",
    "    # Output: c the encoded message  \n",
    "    f = poly_from_coeffs(m)\n",
    "    c = f(a)\n",
    "    return c"
   ]
  },
  {
   "cell_type": "code",
   "execution_count": 6,
   "id": "9615fc0d",
   "metadata": {
    "scrolled": true
   },
   "outputs": [
    {
     "name": "stdout",
     "output_type": "stream",
     "text": [
      "[ 73  35 116  42  38 131 148  69  50  44  96  35  29 119  66 131 106  18\n",
      "  56 125 135  74   8  93  51  88 129  61 138  46  23 133  83  96 123 138\n",
      "   2  93 141  56   0  97  27   2 133  75   0  98  81  25  68  96   5 132\n",
      "  68  29  11 102 149  94 128 138  21 150  43  23 146  66  39  67  45  80\n",
      " 109  28  23  32  87  23 106  22   9 120 106  89  15  36  66  82  86  25\n",
      "  53  65   6  56 139  72 139 140 119 132  70 122 137  80  70  14  63  34\n",
      " 111 129  49 139  25  78  94  56  64  33 128 100  20  86  17   5 145 137\n",
      " 112  55  10  47  11  77   1  27 133  42   9 110  66  10  38 150  47  41\n",
      "  96 103  38  57   8  12 105]\n"
     ]
    }
   ],
   "source": [
    "c = encode(m)\n",
    "print(c)"
   ]
  },
  {
   "cell_type": "markdown",
   "id": "3327f262",
   "metadata": {},
   "source": [
    "## Corrupt"
   ]
  },
  {
   "cell_type": "code",
   "execution_count": 7,
   "id": "fe2e4040",
   "metadata": {},
   "outputs": [],
   "source": [
    "def corrupt(c,u):\n",
    "    # Input:  c an encoded message\n",
    "    #      u maximum number of random errors\n",
    "    # Output: b a corrupted message due to errors\n",
    "    b = c.copy()\n",
    "    indices = sample(list(range(n)),u)\n",
    "    for i in indices:\n",
    "        b[i] = F(randint(0,q-1))\n",
    "    return b"
   ]
  },
  {
   "cell_type": "code",
   "execution_count": 8,
   "id": "816c441a",
   "metadata": {},
   "outputs": [
    {
     "name": "stdout",
     "output_type": "stream",
     "text": [
      "[ 48  35 116  42  38 131  87  69  50  85  63  35  56 119  69 131 106  18\n",
      "   6 125  75 116   8  93  51 101 129  61 138  46   7 133  83  16 123 138\n",
      "   2  93 141 137   0  97  27   2  50  75   0  98  81  25  68  96   5 132\n",
      "  68  19 103 102 149  38 128 100  21 150  43  23 146  66  39  67  45 148\n",
      " 109  28  23  86  87  23 106  22  83 120 106  49  15  36  27  82  86  25\n",
      "  53  65 120  56  77  72 101 140 119 132  70 122  69  80  70  14  63  34\n",
      " 111 129  49 144  25  78  94  56  64 136 128 100  20  86  17   5 145  45\n",
      " 112  55  10  47  11  77   1  27 133  42   9  57  66  84 115 107 114  41\n",
      "  96 103  38  57 111  12 111]\n",
      "[ 25   0   0   0   0   0  61   0   0 110  33   0 124   0 148   0   0   0\n",
      "  50   0  60 109   0   0   0 138   0   0   0   0  16   0   0  80   0   0\n",
      "   0   0   0  70   0   0   0   0  83   0   0   0   0   0   0   0   0   0\n",
      "   0  10  59   0   0  56   0  38   0   0   0   0   0   0   0   0   0  83\n",
      "   0   0   0  97   0   0   0   0  77   0   0  40   0   0  39   0   0   0\n",
      "   0   0  37   0  62   0  38   0   0   0   0   0  68   0   0   0   0   0\n",
      "   0   0   0 146   0   0   0   0   0  48   0   0   0   0   0   0   0  92\n",
      "   0   0   0   0   0   0   0   0   0   0   0  53   0  77  74  43  84   0\n",
      "   0   0   0   0  48   0 145]\n"
     ]
    }
   ],
   "source": [
    "b = corrupt(c,e)\n",
    "print(b)\n",
    "print(c-b)"
   ]
  },
  {
   "cell_type": "markdown",
   "id": "b1938221",
   "metadata": {},
   "source": [
    "## Decode (Berlekamp-Welch)"
   ]
  },
  {
   "cell_type": "code",
   "execution_count": 9,
   "id": "475c5095",
   "metadata": {},
   "outputs": [],
   "source": [
    "def decode(b):\n",
    "    # Input:  b  a corrupted message\n",
    "    # Output: ms the decoded field messaged if exists, an explanation on the cause else\n",
    "    #      w  True if exists, False else\n",
    "\n",
    "    # should be matrix of size n by e\n",
    "    U_Left = F([[b[i]*a[i]**j for j in range(e)] for i in range(n)])\n",
    "    U_Right = F([[-a[i]**j for j in range(k+e)] for i in range(n)])\n",
    "    U = hstack([U_Left, U_Right])\n",
    "\n",
    "    V = F([[-b[i]*(a[i]**e)] for i in range(n)])\n",
    "\n",
    "    z, w = solve(U,V)\n",
    "\n",
    "    if w == False:\n",
    "        print('No solution found - Matrix system has no solution')\n",
    "\n",
    "    E_coeffs = z[0:e]\n",
    "    E_coeffs = append(E_coeffs,F(1))\n",
    "    G_coeffs = z[e:n]\n",
    "\n",
    "    E = poly_from_coeffs(E_coeffs)\n",
    "    G = poly_from_coeffs(G_coeffs)\n",
    "    q, r = divmod(G,E)\n",
    "\n",
    "    if r != 0:\n",
    "        print('No solution found - Does not divide without remainder')\n",
    "\n",
    "    ms = coeffs_from_poly(q,k-1)\n",
    "    \n",
    "    return ms,True"
   ]
  },
  {
   "cell_type": "code",
   "execution_count": 10,
   "id": "adc295f8",
   "metadata": {},
   "outputs": [
    {
     "name": "stdout",
     "output_type": "stream",
     "text": [
      "[ 73  32 104  97 118 101  32 109  97 115 116 101 114 101 100  32  82 101\n",
      " 101 100  45  83 111 108 109 111 110  32 101 110  99 111 100 105 110 103\n",
      "  32  97 110 100  32  66 101 114 108 101 107  97 109 112  45  87 101 108\n",
      "  99 104  32 100 101  99 111 100 105 110 103  33  32  32  87 111 111 104\n",
      " 111 111  33]\n",
      "[0 0 0 0 0 0 0 0 0 0 0 0 0 0 0 0 0 0 0 0 0 0 0 0 0 0 0 0 0 0 0 0 0 0 0 0 0\n",
      " 0 0 0 0 0 0 0 0 0 0 0 0 0 0 0 0 0 0 0 0 0 0 0 0 0 0 0 0 0 0 0 0 0 0 0 0 0\n",
      " 0]\n"
     ]
    }
   ],
   "source": [
    "ms,w  = decode(b)\n",
    "print(ms)\n",
    "print(m-ms)"
   ]
  },
  {
   "cell_type": "markdown",
   "id": "4f51010b",
   "metadata": {},
   "source": [
    "## Text from Field"
   ]
  },
  {
   "cell_type": "code",
   "execution_count": 11,
   "id": "3c652c06",
   "metadata": {},
   "outputs": [],
   "source": [
    "def text_from_field(ms):\n",
    "    # Input:  ms  a decoded field message\n",
    "    # Output: ts  the decoded text message \n",
    "    ts = \"\".join([chr(mm) for mm in ms])\n",
    "    return ts"
   ]
  },
  {
   "cell_type": "code",
   "execution_count": 12,
   "id": "f9656098",
   "metadata": {},
   "outputs": [
    {
     "name": "stdout",
     "output_type": "stream",
     "text": [
      "I have mastered Reed-Solmon encoding and Berlekamp-Welch decoding!  Woohoo!\n"
     ]
    }
   ],
   "source": [
    "ts = text_from_field(ms)\n",
    "print(ts)"
   ]
  },
  {
   "cell_type": "code",
   "execution_count": 13,
   "id": "7ad97627",
   "metadata": {},
   "outputs": [
    {
     "data": {
      "text/plain": [
       "'I have mastered Reed-Solmon encoding and Berlekamp-Welch decoding!  Woohoo!'"
      ]
     },
     "execution_count": 13,
     "metadata": {},
     "output_type": "execute_result"
    }
   ],
   "source": [
    "ts"
   ]
  },
  {
   "cell_type": "markdown",
   "id": "97880c84",
   "metadata": {},
   "source": [
    "##  Whole Process"
   ]
  },
  {
   "cell_type": "code",
   "execution_count": 14,
   "id": "d541537c",
   "metadata": {},
   "outputs": [],
   "source": [
    "def whole_process(t,u):\n",
    "    # Input:  t  a text message\n",
    "    #      u  the maximum number of random errors\n",
    "    # Output: the trace of the whole procedd.\n",
    "    print(\"\\nText message:\")\n",
    "    print(t)\n",
    "\n",
    "    m = field_from_text(t)\n",
    "    print(\"\\nField message:\")\n",
    "    print(m)\n",
    "\n",
    "    c = encode(m)\n",
    "    print(\"\\nEncoded field message:\")\n",
    "    print(c)\n",
    "\n",
    "    b = corrupt(c,u)\n",
    "    print(\"\\nCorrupted field message:\")\n",
    "    print(b)\n",
    "\n",
    "    ms,w = decode(b)\n",
    "    print(\"\\nDecoded field message:\")\n",
    "    if w == False: print('Fail!',ms); return\n",
    "    print(ms)\n",
    " \n",
    "    ts = text_from_field(ms)\n",
    "    print(\"\\nDecoded text message:\")\n",
    "    print(ts)\n",
    "\n",
    "    if t == ts:\n",
    "        print(\"\\nSame!\")\n",
    "    else:\n",
    "        print(\"\\nDifferent!\")\n",
    "    return"
   ]
  },
  {
   "cell_type": "code",
   "execution_count": 15,
   "id": "280d2316",
   "metadata": {},
   "outputs": [],
   "source": [
    "# The following text has exactly k many characters.\n",
    "# If not, one can always chop the text into chunks of length k and run the program on each chunk.\n",
    "t = \"I have mastered Reed-Solmon encoding and Berlekamp-Welch decoding!  Woohoo!\""
   ]
  },
  {
   "cell_type": "code",
   "execution_count": 16,
   "id": "7da199b8",
   "metadata": {},
   "outputs": [
    {
     "name": "stdout",
     "output_type": "stream",
     "text": [
      "\n",
      "Text message:\n",
      "I have mastered Reed-Solmon encoding and Berlekamp-Welch decoding!  Woohoo!\n",
      "\n",
      "Field message:\n",
      "[ 73  32 104  97 118 101  32 109  97 115 116 101 114 101 100  32  82 101\n",
      " 101 100  45  83 111 108 109 111 110  32 101 110  99 111 100 105 110 103\n",
      "  32  97 110 100  32  66 101 114 108 101 107  97 109 112  45  87 101 108\n",
      "  99 104  32 100 101  99 111 100 105 110 103  33  32  32  87 111 111 104\n",
      " 111 111  33]\n",
      "\n",
      "Encoded field message:\n",
      "[ 73  35 116  42  38 131 148  69  50  44  96  35  29 119  66 131 106  18\n",
      "  56 125 135  74   8  93  51  88 129  61 138  46  23 133  83  96 123 138\n",
      "   2  93 141  56   0  97  27   2 133  75   0  98  81  25  68  96   5 132\n",
      "  68  29  11 102 149  94 128 138  21 150  43  23 146  66  39  67  45  80\n",
      " 109  28  23  32  87  23 106  22   9 120 106  89  15  36  66  82  86  25\n",
      "  53  65   6  56 139  72 139 140 119 132  70 122 137  80  70  14  63  34\n",
      " 111 129  49 139  25  78  94  56  64  33 128 100  20  86  17   5 145 137\n",
      " 112  55  10  47  11  77   1  27 133  42   9 110  66  10  38 150  47  41\n",
      "  96 103  38  57   8  12 105]\n",
      "\n",
      "Corrupted field message:\n",
      "[ 73  35  39  42 112 131 111  69  50  94  96  35  29 119  66 124 106 136\n",
      "  56  48 135 103   8  93  51   2  47  61 138  80  23  79  83  96 123 138\n",
      "  42  93 141  56   0  97  27   2  39  75   0  98  38 119  68  96   5 132\n",
      "  68  29  11 102 149  94 128 138  21  54  43 145 146  66  39  67  45  80\n",
      " 109  28  87 111  87  23 104  22   9 120 106  89  15  34  66  82  86  26\n",
      "  53  65   6  56   8  14 144 140 119 132   2 122 137  80  70  14  63  34\n",
      "  61  38  49 139  25  78  94  56  26  33 128   3 126  86  17   5 145  11\n",
      " 112  55  10  47  11  77 135  27 133  42   9 110  34  68  38  21 132  41\n",
      "  96 103  38  57   8  12 105]\n",
      "\n",
      "Decoded field message:\n",
      "[ 73  32 104  97 118 101  32 109  97 115 116 101 114 101 100  32  82 101\n",
      " 101 100  45  83 111 108 109 111 110  32 101 110  99 111 100 105 110 103\n",
      "  32  97 110 100  32  66 101 114 108 101 107  97 109 112  45  87 101 108\n",
      "  99 104  32 100 101  99 111 100 105 110 103  33  32  32  87 111 111 104\n",
      " 111 111  33]\n",
      "\n",
      "Decoded text message:\n",
      "I have mastered Reed-Solmon encoding and Berlekamp-Welch decoding!  Woohoo!\n",
      "\n",
      "Same!\n"
     ]
    }
   ],
   "source": [
    "whole_process(t,e) "
   ]
  },
  {
   "cell_type": "code",
   "execution_count": 17,
   "id": "966aec4e",
   "metadata": {},
   "outputs": [
    {
     "name": "stdout",
     "output_type": "stream",
     "text": [
      "\n",
      "Text message:\n",
      "I have mastered Reed-Solmon encoding and Berlekamp-Welch decoding!  Woohoo!\n",
      "\n",
      "Field message:\n",
      "[ 73  32 104  97 118 101  32 109  97 115 116 101 114 101 100  32  82 101\n",
      " 101 100  45  83 111 108 109 111 110  32 101 110  99 111 100 105 110 103\n",
      "  32  97 110 100  32  66 101 114 108 101 107  97 109 112  45  87 101 108\n",
      "  99 104  32 100 101  99 111 100 105 110 103  33  32  32  87 111 111 104\n",
      " 111 111  33]\n",
      "\n",
      "Encoded field message:\n",
      "[ 73  35 116  42  38 131 148  69  50  44  96  35  29 119  66 131 106  18\n",
      "  56 125 135  74   8  93  51  88 129  61 138  46  23 133  83  96 123 138\n",
      "   2  93 141  56   0  97  27   2 133  75   0  98  81  25  68  96   5 132\n",
      "  68  29  11 102 149  94 128 138  21 150  43  23 146  66  39  67  45  80\n",
      " 109  28  23  32  87  23 106  22   9 120 106  89  15  36  66  82  86  25\n",
      "  53  65   6  56 139  72 139 140 119 132  70 122 137  80  70  14  63  34\n",
      " 111 129  49 139  25  78  94  56  64  33 128 100  20  86  17   5 145 137\n",
      " 112  55  10  47  11  77   1  27 133  42   9 110  66  10  38 150  47  41\n",
      "  96 103  38  57   8  12 105]\n",
      "\n",
      "Corrupted field message:\n",
      "[ 84  35 116 143  38  27 148  15  50  44  96  89  29 119  66 131 106  18\n",
      " 120 125 135  32   8  93  51  88 129  61 138  30  23 133  83  96 123 138\n",
      "   2  63 141  56   0  97  27   2 133  75   0  48  81  25  68  96   5 132\n",
      "  68  29 116 102 102  94  99 138  21 150  43  23  62  34  39  67  45  80\n",
      " 109  28  23  32  87 105 106  22 100 150  99  89  15  36 116  82  33 117\n",
      "  53  65   6  56 139  72 139 140 119 132  70 122 137  34  65  37  63  73\n",
      " 111 129  49 139  25  15  94 124  64 139 140 150  20  76  17   5 145  73\n",
      " 131  55  10  47  11  77   1  98 133  42   9 110  66  30  38 150  47  41\n",
      "  96  75  99  16   8   3  53]\n",
      "No solution found - Does not divide without remainder\n",
      "\n",
      "Decoded field message:\n",
      "[ 86 107  81  69  49  29  48 113  55 112 111  13 139  10  16  71  52  70\n",
      "  79  79  60  14 126  20  66  81 131 101  59 146 114 116 111   9  61  85\n",
      "  89  35  71  38  41 141   0  35 144  36 106 111  37  59  97  79  97 143\n",
      "  16 129 132 144  79  10  45 115  85   7  84 117  12 106  70  47 128  65\n",
      "  50  65  54]\n",
      "\n",
      "Decoded text message:\n",
      "kQE1\u001d",
      "0q7po\n",
      "\u0010G4FOO<\u000e~\u0014BQe;rto\t=UY#G&)\u0000#$jo%;aOa\u0010O\n",
      "-sU\u0007Tu\f",
      "jF/A2A6\n",
      "\n",
      "Different!\n"
     ]
    }
   ],
   "source": [
    "whole_process(t,e+3) "
   ]
  }
 ],
 "metadata": {
  "kernelspec": {
   "display_name": "Python 3 (ipykernel)",
   "language": "python",
   "name": "python3"
  },
  "language_info": {
   "codemirror_mode": {
    "name": "ipython",
    "version": 3
   },
   "file_extension": ".py",
   "mimetype": "text/x-python",
   "name": "python",
   "nbconvert_exporter": "python",
   "pygments_lexer": "ipython3",
   "version": "3.12.1"
  }
 },
 "nbformat": 4,
 "nbformat_minor": 5
}
