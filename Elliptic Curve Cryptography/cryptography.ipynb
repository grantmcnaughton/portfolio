{
 "cells": [
  {
   "cell_type": "markdown",
   "id": "e9a49dfa-ddb4-4a5c-96e0-9236c8ca5e71",
   "metadata": {},
   "source": [
    "# Cryptography"
   ]
  },
  {
   "cell_type": "code",
   "execution_count": 1,
   "id": "f77d6375-e5ad-4dd1-a8c3-6ec4463b28a2",
   "metadata": {},
   "outputs": [],
   "source": [
    "# set up\n",
    "import random\n",
    "from math import floor, ceil, log2, gcd\n",
    "import numpy as np"
   ]
  },
  {
   "cell_type": "markdown",
   "id": "0eb7f744-9726-44d6-a2a7-53d01772d1d7",
   "metadata": {},
   "source": [
    "# Part I: Finite prime field"
   ]
  },
  {
   "cell_type": "code",
   "execution_count": 2,
   "id": "eb3835d0-6334-44cd-a32d-cf1636449a32",
   "metadata": {},
   "outputs": [],
   "source": [
    "# ===================================\n",
    "# Globl parameters  \n",
    "#   p : prime in F_p\n",
    "# ===================================\n",
    "\n",
    "def fadd(u,v):   \n",
    "    return (u + v) % p\n",
    "\n",
    "def fmul(u,v):\n",
    "    return (u*v) % p\n",
    "\n",
    "def fneg(u):\n",
    "    return (-1*u) % p\n",
    "\n",
    "# find the inverse of u in F_p, see algorithm from lecture ntoes\n",
    "def finv(u):\n",
    "    trace = np.array([[0,0,p,0],[1,0,u,1]])\n",
    "    i = 1\n",
    "    while trace[i,2]>0:\n",
    "        if trace[i,2]==1:\n",
    "            q = trace[i-1,2]\n",
    "            r = 0\n",
    "            t = 0\n",
    "        if trace[i,2]!=1:\n",
    "            q = floor(trace[i-1,2]/trace[i,2]) # largest possible value for which q*r(i-1)<=r(i-2)\n",
    "            r = fadd(trace[i-1,2],fneg(fmul(q,(trace[i,2]))))\n",
    "            t = fadd(trace[i-1,3],fneg(fmul(q,(trace[i,3]))))\n",
    "        newrow = np.array([[i+1,q,r,t]])\n",
    "        trace = np.vstack([trace, newrow])\n",
    "        i=i+1\n",
    "        if i > 999:\n",
    "            print('Algorithm stopped')\n",
    "            break\n",
    "    return (trace[i-1,3])\n",
    "    \n",
    "def fsub(u,v):\n",
    "    return fadd(u,fneg(v))\n",
    "\n",
    "# compute u/v in F_p\n",
    "def fdiv(u,v):\n",
    "    return fmul(u,finv(v))\n",
    "    # should this be return(u // v)\n",
    "\n",
    "# compute the square root of u mod p\n",
    "def fsqrt(u):\n",
    "    def legendre_symbol(u):\n",
    "        ls = pow(u, (p - 1) // 2, p)\n",
    "        return -1 if ls == p - 1 else ls\n",
    "    if legendre_symbol(u) != 1: return 0\n",
    "    if u     == 0:              return 0\n",
    "    if p % 4 == 3:              return pow(u, (p + 1) // 4, p)\n",
    "    s,e  = p-1, 0\n",
    "    while s % 2 == 0:  s,e  = s // 2, e + 1\n",
    "    n = 2\n",
    "    while legendre_symbol(n) != -1:  n += 1\n",
    "    x,b,g,r = pow(u, (s + 1) // 2, p), pow(u, s, p), pow(n, s, p), e\n",
    "    while True:\n",
    "        t,m = b, 0\n",
    "        for m in range(r):\n",
    "            if t == 1: break\n",
    "            t = pow(t, 2, p)\n",
    "        if m == 0: return x\n",
    "        gs = pow(g, 2 ** (r - m - 1), p)\n",
    "        g = (gs * gs) % p\n",
    "        x = (x * gs) % p\n",
    "        b = (b * g) % p\n",
    "        r = m"
   ]
  },
  {
   "cell_type": "code",
   "execution_count": 3,
   "id": "d77baab1-ab0a-45b8-bc6f-0d5872e026c8",
   "metadata": {},
   "outputs": [],
   "source": [
    "p = 11"
   ]
  },
  {
   "cell_type": "code",
   "execution_count": 4,
   "id": "6b3f42c1-daf4-4290-9b9f-28e0f8c01660",
   "metadata": {},
   "outputs": [
    {
     "data": {
      "text/plain": [
       "5"
      ]
     },
     "execution_count": 4,
     "metadata": {},
     "output_type": "execute_result"
    }
   ],
   "source": [
    "fadd(7,9)"
   ]
  },
  {
   "cell_type": "code",
   "execution_count": 5,
   "id": "c302c86f",
   "metadata": {},
   "outputs": [
    {
     "data": {
      "text/plain": [
       "8"
      ]
     },
     "execution_count": 5,
     "metadata": {},
     "output_type": "execute_result"
    }
   ],
   "source": [
    "fmul(7,9)"
   ]
  },
  {
   "cell_type": "code",
   "execution_count": 6,
   "id": "56f20b39",
   "metadata": {},
   "outputs": [
    {
     "data": {
      "text/plain": [
       "4"
      ]
     },
     "execution_count": 6,
     "metadata": {},
     "output_type": "execute_result"
    }
   ],
   "source": [
    "fneg(7)"
   ]
  },
  {
   "cell_type": "code",
   "execution_count": 7,
   "id": "ef433954",
   "metadata": {},
   "outputs": [
    {
     "data": {
      "text/plain": [
       "8"
      ]
     },
     "execution_count": 7,
     "metadata": {},
     "output_type": "execute_result"
    }
   ],
   "source": [
    "finv(7)"
   ]
  },
  {
   "cell_type": "code",
   "execution_count": 8,
   "id": "c4d329d8",
   "metadata": {},
   "outputs": [
    {
     "data": {
      "text/plain": [
       "9"
      ]
     },
     "execution_count": 8,
     "metadata": {},
     "output_type": "execute_result"
    }
   ],
   "source": [
    "fsub(7,9)"
   ]
  },
  {
   "cell_type": "code",
   "execution_count": 9,
   "id": "211d88bb",
   "metadata": {},
   "outputs": [
    {
     "data": {
      "text/plain": [
       "2"
      ]
     },
     "execution_count": 9,
     "metadata": {},
     "output_type": "execute_result"
    }
   ],
   "source": [
    "fdiv(7,9)"
   ]
  },
  {
   "cell_type": "code",
   "execution_count": 10,
   "id": "95dcaea8",
   "metadata": {},
   "outputs": [
    {
     "data": {
      "text/plain": [
       "5"
      ]
     },
     "execution_count": 10,
     "metadata": {},
     "output_type": "execute_result"
    }
   ],
   "source": [
    "fsqrt(3)"
   ]
  },
  {
   "cell_type": "code",
   "execution_count": 11,
   "id": "f0717eb9",
   "metadata": {},
   "outputs": [
    {
     "data": {
      "text/plain": [
       "0"
      ]
     },
     "execution_count": 11,
     "metadata": {},
     "output_type": "execute_result"
    }
   ],
   "source": [
    "fsqrt(2)    # No squre-root of 2 modulo 11, should return 0"
   ]
  },
  {
   "cell_type": "markdown",
   "id": "e6a41eec",
   "metadata": {},
   "source": [
    "# Part II: Elliptic Curve Group"
   ]
  },
  {
   "cell_type": "code",
   "execution_count": 12,
   "id": "d64ed4ed",
   "metadata": {},
   "outputs": [],
   "source": [
    "# ===================================\n",
    "# Globl parameters\n",
    "#   a,b in y^2 = x^3 + a x + b\n",
    "# ===================================\n",
    "\n",
    "# We will use 0 as our identity element\n",
    "def gop(A,B):\n",
    "    #!!! Fill in using finite field operations (such as fadd, fmul, fneg, finv, fsub, fdiv)  \n",
    "    if A == 0: \n",
    "        return B   # infinity is represented as 0.\n",
    "    elif B == 0:\n",
    "        return A\n",
    "    elif A[0] == B[0] and A[1] == fneg(B[1]):\n",
    "        return 0\n",
    "    elif A == B:\n",
    "        m = fdiv(fadd(fmul(3, fmul(A[0],A[0])), a), fmul(2,A[1]))\n",
    "        x = fsub(fmul(m,m),fmul(2,A[0]))\n",
    "        y = fsub(0,fadd(fmul(m,fsub(x,A[0])),A[1]))\n",
    "        C = [x,y]\n",
    "        return (C)\n",
    "    else:\n",
    "        m = fdiv(fsub(B[1],A[1]),fsub(B[0],A[0]))\n",
    "        x = fsub(fsub(fmul(m,m),A[0]),B[0])\n",
    "        y = fsub(0,fadd(A[1],fmul(fsub(x,A[0]),m)))\n",
    "        C = [x,y]\n",
    "        return (C)\n",
    "\n",
    "# compute the inverse of A in the group\n",
    "def ginv(A):\n",
    "    x = A[0]\n",
    "    y = fneg(A[1])\n",
    "    C = [x,y]\n",
    "    return (C)\n",
    "    #!!! Fill in using finite field operations  \n",
    "\n",
    "    \n",
    "# compute A^K in the group, see algorithm in lecture notes\n",
    "def gpow(A,k):\n",
    "    if k == 0:\n",
    "        return(0)\n",
    "    elif k<0:\n",
    "        return(gpow(ginv(A),-k))\n",
    "    elif k == 1:\n",
    "        return(A)\n",
    "    elif k % 2 == 0:\n",
    "        r = gpow(A,k/2)\n",
    "        return(gop(r,r))\n",
    "    elif k % 2 == 1:\n",
    "        r = gpow(A,(k-1)/2)\n",
    "        return(gop(gop(r,r),A))\n",
    "    else:\n",
    "        print('Operation failed')\n",
    "        \n",
    "    #!!! Fill in using the group operation gop"
   ]
  },
  {
   "cell_type": "code",
   "execution_count": 13,
   "id": "d04115ab-e02d-4330-a689-f09535a7dc37",
   "metadata": {},
   "outputs": [
    {
     "data": {
      "text/plain": [
       "True"
      ]
     },
     "execution_count": 13,
     "metadata": {},
     "output_type": "execute_result"
    }
   ],
   "source": [
    "A = [0,1]\n",
    "B = [0,2]\n",
    "p = 3\n",
    "A[1] == fneg(B[1])"
   ]
  },
  {
   "cell_type": "code",
   "execution_count": 14,
   "id": "80cae09b",
   "metadata": {},
   "outputs": [
    {
     "data": {
      "text/plain": [
       "[6, 0]"
      ]
     },
     "execution_count": 14,
     "metadata": {},
     "output_type": "execute_result"
    }
   ],
   "source": [
    "a,b,p = 1,2,7\n",
    "\n",
    "gop([3,2],[0,4]) # your program should return [6, 0]"
   ]
  },
  {
   "cell_type": "code",
   "execution_count": 15,
   "id": "38bc5d4f",
   "metadata": {},
   "outputs": [
    {
     "data": {
      "text/plain": [
       "[3, 5]"
      ]
     },
     "execution_count": 15,
     "metadata": {},
     "output_type": "execute_result"
    }
   ],
   "source": [
    "a,b,p = 1,2,7\n",
    "\n",
    "ginv([3,2])"
   ]
  },
  {
   "cell_type": "code",
   "execution_count": 16,
   "id": "4763ecea",
   "metadata": {},
   "outputs": [
    {
     "data": {
      "text/plain": [
       "[0, 3]"
      ]
     },
     "execution_count": 16,
     "metadata": {},
     "output_type": "execute_result"
    }
   ],
   "source": [
    "a,b,p = 1,2,7\n",
    "\n",
    "gpow([3,2],5)"
   ]
  },
  {
   "cell_type": "code",
   "execution_count": 17,
   "id": "04d9592c",
   "metadata": {},
   "outputs": [
    {
     "name": "stdout",
     "output_type": "stream",
     "text": [
      "Multiplication Table for a = 0,  b = 1,  p = 5\n",
      "\n",
      "           [0, 1]   [0, 4]   [2, 2]   [2, 3]   [4, 0]   0        \n",
      "\n",
      "[0, 1]     [0, 4]   0        [2, 3]   [4, 0]   [2, 2]   [0, 1]   \n",
      "[0, 4]     0        [0, 1]   [4, 0]   [2, 2]   [2, 3]   [0, 4]   \n",
      "[2, 2]     [2, 3]   [4, 0]   [0, 4]   0        [0, 1]   [2, 2]   \n",
      "[2, 3]     [4, 0]   [2, 2]   0        [0, 1]   [0, 4]   [2, 3]   \n",
      "[4, 0]     [2, 2]   [2, 3]   [0, 1]   [0, 4]   0        [4, 0]   \n"
     ]
    }
   ],
   "source": [
    "a,b,p = 1,2,7\n",
    "S     = [[0, 3], [0, 4], [1, 2], [1, 5], [3, 2], [3, 5], [4, 0], [6, 0], 0]\n",
    "e     = len(S)\n",
    "\n",
    "a,b,p = 0,1,5\n",
    "S     = [[0,1], [0,4], [2,2], [2,3], [4,0], 0]\n",
    "e     = len(S)\n",
    "\n",
    "print('Multiplication Table for a = %d,  b = %d,  p = %d'%(a,b,p))\n",
    "print()\n",
    "print('%-10s' %'', end=\" \")\n",
    "for j in range(e):\n",
    "    print('%-8s' %S[j], end=\" \")\n",
    "print()\n",
    "print()\n",
    "#print('\\n----------------------------------------------------------------------')\n",
    "for i in range(e-1):\n",
    "    print('%-10s' %S[i], end=\" \")\n",
    "    for j in range(e):\n",
    "        s = gop(S[i],S[j])\n",
    "        print('%-8s' %s, end=\" \")\n",
    "    print()"
   ]
  },
  {
   "cell_type": "markdown",
   "id": "da1e31fb",
   "metadata": {},
   "source": [
    "# Part III: Encode & Decode  \n",
    "(You don't need to do anything about this part)"
   ]
  },
  {
   "cell_type": "code",
   "execution_count": 18,
   "id": "18694304",
   "metadata": {},
   "outputs": [],
   "source": [
    "# ===================================\n",
    "# Globl parameters\n",
    "#   a,b : in y^2 = x^3 + ax + b \n",
    "#   p   : prime in F_p\n",
    "#   w   : encoding parameter\n",
    "# ===================================\n",
    "\n",
    "# break a text into smaller blocks\n",
    "def split(text):\n",
    "    n = floor(log2(p/w)) // 8 - 1\n",
    "    messages = [text[i:i+n] for i in range(0, len(text), n)]\n",
    "    return messages\n",
    "\n",
    "def encode(message):\n",
    "    x = int.from_bytes(message.encode(), byteorder='little')\n",
    "    for xp in range(w*x,w*(x+1)):\n",
    "        c = (xp**3 + a*xp + b) % p\n",
    "        yp = fsqrt(c)\n",
    "        if yp != 0: return [xp,yp]   \n",
    "    print(\"Very unlikely thing happened!!! You need to increase the value of w.\")\n",
    "    return FAIL;   \n",
    "\n",
    "def decode(m):\n",
    "    x = m[0]//w\n",
    "    length = ceil(x.bit_length() / 8)\n",
    "    return x.to_bytes(length, byteorder='little').decode()"
   ]
  },
  {
   "cell_type": "code",
   "execution_count": 19,
   "id": "22746fe5",
   "metadata": {},
   "outputs": [
    {
     "name": "stdout",
     "output_type": "stream",
     "text": [
      "=====================================================================\n",
      "The urge to discover secrets is deeply ingrained in human nature\n",
      "=====================================================================\n",
      "The urge to discover s\n",
      "[11026951511822505740824816598564065624702472009904837633, 6151605368174235746863821334283590061124563105620907872397]\n",
      "The urge to discover s\n",
      "--------------------------------------------\n",
      "ecrets is deeply ingra\n",
      "[9333557845285353305487404376077288563174454565137507585, 258006309802765647444669041990289651379883185299850026340]\n",
      "ecrets is deeply ingra\n",
      "--------------------------------------------\n",
      "ined in human nature\n",
      "[148265109643662281674581825977957840452429567387904, 1875102528059364570960654373176424825105735193767258147086]\n",
      "ined in human nature\n",
      "--------------------------------------------\n"
     ]
    }
   ],
   "source": [
    "a = -3\n",
    "b = 2455155546008945908945579827824778998937758030093070285253\n",
    "p = 6277101735386680763835789423207666416083908700390324961279\n",
    "w = 2**8\n",
    "\n",
    "text = \"The urge to discover secrets is deeply ingrained in human nature\"\n",
    "print('=====================================================================')\n",
    "print(text)\n",
    "print('=====================================================================')\n",
    "\n",
    "messages = split(text)\n",
    "for message in messages:\n",
    "    print(message)\n",
    "    m = encode(message)\n",
    "    print(m)\n",
    "    message = decode(m)\n",
    "    print(message)\n",
    "    print('--------------------------------------------')"
   ]
  },
  {
   "cell_type": "markdown",
   "id": "4b6296c2",
   "metadata": {},
   "source": [
    "# Part IV: ElGamal based on Elliptic Group over finite prime field"
   ]
  },
  {
   "cell_type": "code",
   "execution_count": 20,
   "id": "adfbb716",
   "metadata": {},
   "outputs": [],
   "source": [
    "def init_receiver():   # Bob does the following once.\n",
    "    # Choose a group G (parametrized by a,b,p) and  an encoding/decoding scheme (parametrized by w)\n",
    "    a = -3\n",
    "    b = 2455155546008945908945579827824778998937758030093070285253\n",
    "    p = 6277101735386680763835789423207666416083908700390324961279\n",
    "    w  = 2**8\n",
    "    group = [a,b,p,w]\n",
    "\n",
    "    # Choose a private key k > 0\n",
    "    k = 1309500873854749099831268309457391717722850279\n",
    "    private_key = k\n",
    "    \n",
    "    # Construct a public key g,h\n",
    "    g = [602046843592854700404561654781648738821600320709046855698,\n",
    "         1580573966983949753944652941399918970627913726427538969730]\n",
    "    h = gpow(g,k)\n",
    "    public_key = [g,h]\n",
    "    \n",
    "    return group, public_key, private_key \n",
    "\n",
    "    \n",
    "def send(text):   # Alice sends messages to Bob.\n",
    "    messages  = split(text)\n",
    "    encrypted = []\n",
    "    for message in messages:\n",
    "        m  = encode(message)\n",
    "        s  = random.randrange(p//(2*w), p//w)\n",
    "        c0 = gpow(g,s)\n",
    "        c1 = gop(gpow(h,s),m)\n",
    "        encrypted.append([c0,c1])\n",
    "    return encrypted\n",
    "\n",
    "\n",
    "def receive(encrypted): # Bob receives messages from Alice.\n",
    "    text = \"\"\n",
    "    for c in range(len(encrypted)):\n",
    "        c0, c1 = encrypted[c]\n",
    "        m = gop(gpow(ginv(c0),k),c1)\n",
    "        message = decode(m)\n",
    "        text = text + message\n",
    "    return text"
   ]
  },
  {
   "cell_type": "code",
   "execution_count": 21,
   "id": "d56fbcd8",
   "metadata": {},
   "outputs": [
    {
     "name": "stdout",
     "output_type": "stream",
     "text": [
      "\n",
      "== Text ================================================================\n",
      "The urge to discover secrets is deeply ingrained in human nature; even the least curious mind is roused by the promise of sharing knowledge withheld from others. Some are fortunate enough to find a job which consists of the solution of mysteries, but most of us are driven to sublimate this urge by the solving of artificial puzzles designed for our entertainment. Detective stories or crossword puzzles cater for the majority; the solution of secret codes may be the pursuit of the few. (John Chadwick from The Decipherment of Linear B, as quoted in The Code Book, by Simon Singh)\n",
      "\n",
      "== Encrypted text =====================================================\n",
      "[[[6059599081574750903784518617223211671601606894243494974043, 4253077601211698607461421543774941314549680482849078117716], [1642468258979806719927101593029097875372396055454936998318, 5339934909634610198639835792312798104720446503952573476831]], [[4790635300153761836574474302556099847421374077568692213883, 829933454118416057881593865087428192770868911396138933429], [4269225380579422840354854959779681878151306454010680710370, 1184161782215871738623206706617716598930454831374266877073]], [[5241909519199406833065187274076563721931212938738745374701, 1615741995932204297511411154310299203696554633021385393215], [4818158655944547018049797513212314867671102712701571669077, 5792955952213659275907739893554597392325292730661391354251]], [[3091692552175128723219954602694433183744388588552381724024, 3433214397639895442094131114898157164021979759783503367081], [2857970594501144128773752004618003989447070323545159619495, 1615207076263865919705778285209825012830602331700845215407]], [[4970962325858710601359015592011512591754550874883684382820, 4770262406467085410360706134821772850419082022162206803568], [5240750864632275830553136935734948731145904423389876790870, 5065041461481191201359099973766958427593446871628951356603]], [[4404884959566218015568687326329805223982663230014414584709, 5701222085085146185587859894537250024793241381070492864479], [3382704249298959914242744619035063125370143329066293772928, 631673594124967830219489090307331981436120085953594076183]], [[5033081128977939951893669842507165620953565247296482220005, 2500747264896070132709301585044963085143483775885921806628], [6112505448447422073022256705477107136589122014390611068911, 5112132692562056629783209678107323384736507998978106155270]], [[2791471803111761977508067583990768096302733190270813364137, 317835692711726150861850387404654204934187677147315195496], [4470223985362130701953263273189259363109050529487935369000, 470030824804130975314758283743319019089539467088158860905]], [[3593489109817588828214035729354024460816262841216966597660, 508186709181466155173787355927910836693376094367474544538], [2694931641550965857947969289546138754951228715608629685306, 2961952178128159970669701239553527417774101516771445891429]], [[3062102255115997890097693730039036470713288215481828490394, 3475392044750668915463271183576480122716416378893605827371], [4837494043918148666503492821706952226636482864382054976706, 1599742417918825225878547364610867995326955384748743188427]], [[4073954034598249242426271657465735072986239866304880569896, 5313877812670874444345596184955826132654498543719495517039], [3076729288672259410746451835001019914851984462972397224798, 1102330865263409143022040534079513968825891078461959957914]], [[4329947483338494291094142182624830616940915902481756940477, 1457923018736647491330039155155901314826758606712226042045], [3031071265433645424445318916195507948613444681474365562667, 5977680892818577750316368086668150940680465084245148365689]], [[1607470722282411191016031139649473772864064251962437255313, 811027880993657329936006218436535537536926199850208752049], [6071979089029565023909510080563069335086587677647647173570, 1337662033869931997054523930841386881987033377285990803477]], [[1863081980116866305645386868750334288538321101492982717208, 4344423009567323929250608181789579846179734335684206270656], [4080605822187700659183519990307292211387369088860187191413, 3826742363469348012182572953317320158274804474881759564899]], [[4732745655965938173731004826261868252466309678092387688169, 2518221100389504148858395662723294285720445063714838825673], [5947222596543207942246573578659879017762100291420720715242, 2200364660612474912199885720393343317364421883245488113789]], [[5085713221456416526175761180122645061938337349822561334283, 3065267056601399100738081370352241723697235112346921812751], [3851894293570858591045426690717039335782090001198348299647, 2237656610363600121304080474834315693086278050060596318476]], [[2670486990016696272383750290383068254497609268388166067227, 1580655999903862829893667523864882527890427759306051013971], [5946623980758764289784645895647884389093453253029593129430, 3560651617842117252634200297837069816745642439621855027680]], [[5230341337283584616383106186520897845224226250472048220321, 5638304048853519006897247479338643243508700705286958186197], [4647265755721568697210476927778646106577143317449162360829, 4934286266296632965325686096376830720040260901081473857415]], [[4818542149743097998177717836166792384669262966059111861908, 5912231713164701272264172059566994306511054694397818402900], [5584115062480239367197320322824994292943530278822250908776, 2419053106604983839982160312194927058420282112469201123972]], [[3458496569184421573635750527542772878926566293573287345062, 3962815017535870283716266527579524337830507266587451799376], [1684634618876220628858563344718493170218372692545449028561, 2549687049010271735859562674449355124556836169837649243836]], [[5440978856125591467570799621827090195682767227674301356649, 6145693476533168284388522219749190433639545565692628877832], [437441957857677682378241924670261909666523341183219611713, 4509941820083504765189902325182721350564120068745455070204]], [[5727771622822865601245861525627048260226066605350351241180, 3461443021190496366739870822754684914058120493866116378041], [6268835000974302592132533382489377144782286666071015517628, 880533132583613517132654833085525599523499393814502225464]], [[5351890952445820331363933705141166224087369005845952486333, 856957323467004234167508196741461681455267071418159357938], [4765257316638361656616643325131029560985417965647079330787, 620073208502330578591286088876301648592780002067289033031]], [[4161590156482721123289299481045677934343431439991967340801, 3606874714221478039119713339315381701631802190716845553776], [1346877544576300022800477297464137294575015898955028301800, 4120876770756209975946693689718344436343710522925202772686]], [[2925719867138157071012630300885209290907995505904559274711, 908836641467336055039452110491750124603893040209502653827], [390658099853690571384806222020088765625306354071662890069, 4014055229307807685158666597769283050432868305900498166790]], [[4603264909318141674533048671093080190419992742627924605486, 4213238608462302583208948462507088015792880639854307369559], [1478532922964862803529989761525056913080617273786219300238, 6172098329927286226188175922381651221872904675912650649626]], [[1134016005949802039844624135056160656425228321783076254606, 5979641784109203110801821501188853290178163739902270774816], [4947918979684757339862558643152051425455380299258748776760, 2794684655242715360603843386983262759500520373633679820073]]]\n",
      "\n",
      "== Decrypted text =====================================================\n",
      "The urge to discover secrets is deeply ingrained in human nature; even the least curious mind is roused by the promise of sharing knowledge withheld from others. Some are fortunate enough to find a job which consists of the solution of mysteries, but most of us are driven to sublimate this urge by the solving of artificial puzzles designed for our entertainment. Detective stories or crossword puzzles cater for the majority; the solution of secret codes may be the pursuit of the few. (John Chadwick from The Decipherment of Linear B, as quoted in The Code Book, by Simon Singh)\n",
      "\n",
      "== Compare  ===========================================================\n",
      "Same!\n"
     ]
    }
   ],
   "source": [
    "group, public_key, private_key = init_receiver()\n",
    "\n",
    "a,b,p,w = group         # Broadcast to the whole world\n",
    "g,h     = public_key    # Broadcast to the whole world\n",
    "k       = private_key   # Keep it secret\n",
    "\n",
    "text = \"The urge to discover secrets is deeply ingrained in human nature; even the least curious mind is roused by the promise of sharing knowledge withheld from others. Some are fortunate enough to find a job which consists of the solution of mysteries, but most of us are driven to sublimate this urge by the solving of artificial puzzles designed for our entertainment. Detective stories or crossword puzzles cater for the majority; the solution of secret codes may be the pursuit of the few. (John Chadwick from The Decipherment of Linear B, as quoted in The Code Book, by Simon Singh)\"\n",
    "print('\\n== Text ================================================================')\n",
    "print(text)\n",
    "\n",
    "encrypted = send(text)\n",
    "print('\\n== Encrypted text =====================================================')\n",
    "print(encrypted)\n",
    "\n",
    "decrypted = receive(encrypted)\n",
    "print('\\n== Decrypted text =====================================================')\n",
    "print(decrypted)\n",
    "\n",
    "print('\\n== Compare  ===========================================================')\n",
    "if text == decrypted: \n",
    "    print(\"Same!\")\n",
    "else: \n",
    "    print(\"Different!  Debug the program :-)\")"
   ]
  }
 ],
 "metadata": {
  "kernelspec": {
   "display_name": "Python 3 (ipykernel)",
   "language": "python",
   "name": "python3"
  },
  "language_info": {
   "codemirror_mode": {
    "name": "ipython",
    "version": 3
   },
   "file_extension": ".py",
   "mimetype": "text/x-python",
   "name": "python",
   "nbconvert_exporter": "python",
   "pygments_lexer": "ipython3",
   "version": "3.11.4"
  }
 },
 "nbformat": 4,
 "nbformat_minor": 5
}
