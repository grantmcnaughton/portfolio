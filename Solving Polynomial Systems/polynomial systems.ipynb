{
 "cells": [
  {
   "cell_type": "markdown",
   "id": "33b7f2f6",
   "metadata": {},
   "source": [
    "# Solving Polynomial System"
   ]
  },
  {
   "cell_type": "markdown",
   "id": "980bd8ed",
   "metadata": {},
   "source": [
    "## Utilities\n"
   ]
  },
  {
   "cell_type": "code",
   "execution_count": 1,
   "id": "6d537243",
   "metadata": {},
   "outputs": [],
   "source": [
    "# Libraries\n",
    "from sympy import *\n",
    "from copy  import deepcopy\n",
    "\n",
    "# Pretty print\n",
    "init_printing() \n",
    "\n",
    "# Wrappers for subresultants     \n",
    "def res(f,g,v,k):\n",
    "    # Input:  f,g polynomials\n",
    "    #      v   a variable\n",
    "    #      k   a negative integer\n",
    "    # Output: the k-th subresultant of f and g with respect to v.\n",
    "    R = subresultants(f,g,v)\n",
    "    d = len(R)\n",
    "    return R[d-1-k]"
   ]
  },
  {
   "cell_type": "markdown",
   "id": "6edf10dc",
   "metadata": {},
   "source": [
    "## Triangularize"
   ]
  },
  {
   "cell_type": "code",
   "execution_count": 2,
   "id": "e20f7ba4",
   "metadata": {},
   "outputs": [],
   "source": [
    "def Triangularize(f):\n",
    "    # Input:  f  = (f[0],f[1],...f[n-1]) such that\n",
    "    #           f[i] in C[x[0],...,x[n-1]]\n",
    "    # Output: ft = (ft[0],ft[1],..,ft[n-1]) such that \n",
    "    #           1. ft[i] in C[x[i],...,x[n-1]] \n",
    "    #           2. deg_x[i](ft[i]) = 1  for i=0,...,n-2\n",
    "    #           3. V(ft) contains V(f) \n",
    "    n  = len(f)\n",
    "    h  = deepcopy(f)\n",
    "    ft = [0]*n  # place-holder\n",
    "    for i in range(0, n-1):\n",
    "        ft[i]=res(h[i],h[i+1],x[i],1)\n",
    "        for j in range(i+1, n):\n",
    "            h[j]=res(h[i],h[j],x[i],0)\n",
    "    ft[n-1]=h[n-1]\n",
    "    return ft"
   ]
  },
  {
   "cell_type": "code",
   "execution_count": 3,
   "id": "66e61a59",
   "metadata": {},
   "outputs": [
    {
     "data": {
      "image/png": "[encoded data removed]",
      "text/latex": [
       "$\\displaystyle \\left[ 5 x_{0} + x_{1}^{2} + 4 x_{2} + 1, \\  x_{1} \\left(- 324 x_{2}^{12} + 432 x_{2}^{9} - 4608 x_{2}^{8} + 13824 x_{2}^{7} - 3384 x_{2}^{6} + 3072 x_{2}^{5} + 11264 x_{2}^{4} + 46192 x_{2}^{3} - 3840 x_{2}^{2} + 12288 x_{2} - 130916\\right) - 648 x_{2}^{13} + 1620 x_{2}^{12} + 864 x_{2}^{10} + 2448 x_{2}^{9} + 8064 x_{2}^{8} + 7632 x_{2}^{7} - 9912 x_{2}^{6} - 13568 x_{2}^{5} - 6304 x_{2}^{4} + 89008 x_{2}^{3} + 42624 x_{2}^{2} + 280952 x_{2} - 114780, \\  6561 x_{2}^{24} - 17496 x_{2}^{21} - 93312 x_{2}^{20} + 303264 x_{2}^{19} - 186624 x_{2}^{18} + 186624 x_{2}^{17} - 108864 x_{2}^{16} - 822960 x_{2}^{15} - 3908736 x_{2}^{14} + 10298016 x_{2}^{13} - 2831022 x_{2}^{12} + 2271744 x_{2}^{11} + 837504 x_{2}^{10} + 45177960 x_{2}^{9} - 8849024 x_{2}^{8} + 27699936 x_{2}^{7} - 24878952 x_{2}^{6} + 55071488 x_{2}^{5} + 37825472 x_{2}^{4} + 69001248 x_{2}^{3} + 19099008 x_{2}^{2} + 11426784 x_{2} - 1508619\\right]$"
      ],
      "text/plain": [
       "⎡         2                ⎛        12         9          8           7       \n",
       "⎣5⋅x₀ + x₁  + 4⋅x₂ + 1, x₁⋅⎝- 324⋅x₂   + 432⋅x₂  - 4608⋅x₂  + 13824⋅x₂  - 3384\n",
       "\n",
       "   6          5           4           3          2                    ⎞       \n",
       "⋅x₂  + 3072⋅x₂  + 11264⋅x₂  + 46192⋅x₂  - 3840⋅x₂  + 12288⋅x₂ - 130916⎠ - 648⋅\n",
       "\n",
       "  13          12         10          9          8          7          6       \n",
       "x₂   + 1620⋅x₂   + 864⋅x₂   + 2448⋅x₂  + 8064⋅x₂  + 7632⋅x₂  - 9912⋅x₂  - 1356\n",
       "\n",
       "    5          4           3           2                              24      \n",
       "8⋅x₂  - 6304⋅x₂  + 89008⋅x₂  + 42624⋅x₂  + 280952⋅x₂ - 114780, 6561⋅x₂   - 174\n",
       "\n",
       "     21           20            19            18            17            16  \n",
       "96⋅x₂   - 93312⋅x₂   + 303264⋅x₂   - 186624⋅x₂   + 186624⋅x₂   - 108864⋅x₂   -\n",
       "\n",
       "          15             14              13             12             11     \n",
       " 822960⋅x₂   - 3908736⋅x₂   + 10298016⋅x₂   - 2831022⋅x₂   + 2271744⋅x₂   + 83\n",
       "\n",
       "       10              9             8              7              6          \n",
       "7504⋅x₂   + 45177960⋅x₂  - 8849024⋅x₂  + 27699936⋅x₂  - 24878952⋅x₂  + 5507148\n",
       "\n",
       "    5              4              3              2                        ⎤\n",
       "8⋅x₂  + 37825472⋅x₂  + 69001248⋅x₂  + 19099008⋅x₂  + 11426784⋅x₂ - 1508619⎦"
      ]
     },
     "execution_count": 3,
     "metadata": {},
     "output_type": "execute_result"
    }
   ],
   "source": [
    "x = symbols('x:3')\n",
    "f = [\n",
    "     x[0]**2-x[1]+2*x[2]-1,\n",
    "     x[1]**2+4*x[2]+5*x[0]+1,\n",
    "     3*x[2]**3-2*x[0]*x[1]-4*x[0]-1\n",
    "]\n",
    "ft  = Triangularize(f)\n",
    "ft"
   ]
  },
  {
   "cell_type": "code",
   "execution_count": 4,
   "id": "228c5612",
   "metadata": {},
   "outputs": [
    {
     "data": {
      "image/png": "[encoded data removed]",
      "text/latex": [
       "$\\displaystyle \\left( x_{0}, \\  x_{1}, \\  x_{2}\\right)$"
      ],
      "text/plain": [
       "(x₀, x₁, x₂)"
      ]
     },
     "execution_count": 4,
     "metadata": {},
     "output_type": "execute_result"
    }
   ],
   "source": [
    "x"
   ]
  },
  {
   "cell_type": "code",
   "execution_count": 5,
   "id": "38f960df",
   "metadata": {},
   "outputs": [
    {
     "data": {
      "image/png": "[encoded data removed]",
      "text/latex": [
       "$\\displaystyle x_{0}^{2} - x_{1} + 2 x_{2} - 1$"
      ],
      "text/plain": [
       "  2                \n",
       "x₀  - x₁ + 2⋅x₂ - 1"
      ]
     },
     "execution_count": 5,
     "metadata": {},
     "output_type": "execute_result"
    }
   ],
   "source": [
    "f[0]"
   ]
  },
  {
   "cell_type": "code",
   "execution_count": 6,
   "id": "3ad0e9d4",
   "metadata": {},
   "outputs": [
    {
     "data": {
      "image/png": "[encoded data removed]",
      "text/latex": [
       "$\\displaystyle 5 x_{0} + x_{1}^{2} + 4 x_{2} + 1$"
      ],
      "text/plain": [
       "         2           \n",
       "5⋅x₀ + x₁  + 4⋅x₂ + 1"
      ]
     },
     "execution_count": 6,
     "metadata": {},
     "output_type": "execute_result"
    }
   ],
   "source": [
    "f[1]"
   ]
  },
  {
   "cell_type": "code",
   "execution_count": 7,
   "id": "72eeca9a",
   "metadata": {},
   "outputs": [
    {
     "data": {
      "image/png": "[encoded data removed]",
      "text/latex": [
       "$\\displaystyle - 2 x_{0} x_{1} - 4 x_{0} + 3 x_{2}^{3} - 1$"
      ],
      "text/plain": [
       "                      3    \n",
       "-2⋅x₀⋅x₁ - 4⋅x₀ + 3⋅x₂  - 1"
      ]
     },
     "execution_count": 7,
     "metadata": {},
     "output_type": "execute_result"
    }
   ],
   "source": [
    "f[2]"
   ]
  },
  {
   "cell_type": "code",
   "execution_count": 8,
   "id": "41a21dfc",
   "metadata": {},
   "outputs": [
    {
     "data": {
      "image/png": "[encoded data removed]",
      "text/latex": [
       "$\\displaystyle 5 x_{0} + x_{1}^{2} + 4 x_{2} + 1$"
      ],
      "text/plain": [
       "         2           \n",
       "5⋅x₀ + x₁  + 4⋅x₂ + 1"
      ]
     },
     "execution_count": 8,
     "metadata": {},
     "output_type": "execute_result"
    }
   ],
   "source": [
    "ft[0]"
   ]
  },
  {
   "cell_type": "code",
   "execution_count": 9,
   "id": "e9575635",
   "metadata": {},
   "outputs": [
    {
     "data": {
      "image/png": "[encoded data removed]",
      "text/latex": [
       "$\\displaystyle x_{1} \\left(- 324 x_{2}^{12} + 432 x_{2}^{9} - 4608 x_{2}^{8} + 13824 x_{2}^{7} - 3384 x_{2}^{6} + 3072 x_{2}^{5} + 11264 x_{2}^{4} + 46192 x_{2}^{3} - 3840 x_{2}^{2} + 12288 x_{2} - 130916\\right) - 648 x_{2}^{13} + 1620 x_{2}^{12} + 864 x_{2}^{10} + 2448 x_{2}^{9} + 8064 x_{2}^{8} + 7632 x_{2}^{7} - 9912 x_{2}^{6} - 13568 x_{2}^{5} - 6304 x_{2}^{4} + 89008 x_{2}^{3} + 42624 x_{2}^{2} + 280952 x_{2} - 114780$"
      ],
      "text/plain": [
       "   ⎛        12         9          8           7          6          5         \n",
       "x₁⋅⎝- 324⋅x₂   + 432⋅x₂  - 4608⋅x₂  + 13824⋅x₂  - 3384⋅x₂  + 3072⋅x₂  + 11264⋅\n",
       "\n",
       "  4           3          2                    ⎞         13          12        \n",
       "x₂  + 46192⋅x₂  - 3840⋅x₂  + 12288⋅x₂ - 130916⎠ - 648⋅x₂   + 1620⋅x₂   + 864⋅x\n",
       "\n",
       " 10          9          8          7          6           5          4        \n",
       "₂   + 2448⋅x₂  + 8064⋅x₂  + 7632⋅x₂  - 9912⋅x₂  - 13568⋅x₂  - 6304⋅x₂  + 89008\n",
       "\n",
       "   3           2                     \n",
       "⋅x₂  + 42624⋅x₂  + 280952⋅x₂ - 114780"
      ]
     },
     "execution_count": 9,
     "metadata": {},
     "output_type": "execute_result"
    }
   ],
   "source": [
    "ft[1]"
   ]
  },
  {
   "cell_type": "code",
   "execution_count": 10,
   "id": "82f1dc93",
   "metadata": {},
   "outputs": [
    {
     "data": {
      "image/png": "[encoded data removed]",
      "text/latex": [
       "$\\displaystyle 6561 x_{2}^{24} - 17496 x_{2}^{21} - 93312 x_{2}^{20} + 303264 x_{2}^{19} - 186624 x_{2}^{18} + 186624 x_{2}^{17} - 108864 x_{2}^{16} - 822960 x_{2}^{15} - 3908736 x_{2}^{14} + 10298016 x_{2}^{13} - 2831022 x_{2}^{12} + 2271744 x_{2}^{11} + 837504 x_{2}^{10} + 45177960 x_{2}^{9} - 8849024 x_{2}^{8} + 27699936 x_{2}^{7} - 24878952 x_{2}^{6} + 55071488 x_{2}^{5} + 37825472 x_{2}^{4} + 69001248 x_{2}^{3} + 19099008 x_{2}^{2} + 11426784 x_{2} - 1508619$"
      ],
      "text/plain": [
       "       24           21           20            19            18            17 \n",
       "6561⋅x₂   - 17496⋅x₂   - 93312⋅x₂   + 303264⋅x₂   - 186624⋅x₂   + 186624⋅x₂   \n",
       "\n",
       "           16            15             14              13             12     \n",
       "- 108864⋅x₂   - 822960⋅x₂   - 3908736⋅x₂   + 10298016⋅x₂   - 2831022⋅x₂   + 22\n",
       "\n",
       "        11            10              9             8              7          \n",
       "71744⋅x₂   + 837504⋅x₂   + 45177960⋅x₂  - 8849024⋅x₂  + 27699936⋅x₂  - 2487895\n",
       "\n",
       "    6              5              4              3              2             \n",
       "2⋅x₂  + 55071488⋅x₂  + 37825472⋅x₂  + 69001248⋅x₂  + 19099008⋅x₂  + 11426784⋅x\n",
       "\n",
       "           \n",
       "₂ - 1508619"
      ]
     },
     "execution_count": 10,
     "metadata": {},
     "output_type": "execute_result"
    }
   ],
   "source": [
    "ft[2]"
   ]
  },
  {
   "cell_type": "markdown",
   "id": "e2f96bea",
   "metadata": {},
   "source": [
    "## Back Substitute"
   ]
  },
  {
   "cell_type": "code",
   "execution_count": 11,
   "id": "b3de79b2",
   "metadata": {},
   "outputs": [],
   "source": [
    "def BackSubstitute(ft):\n",
    "    # Input:  ft = (ft[0],ft[1],..,ft[n-1]) such that \n",
    "    #           1. ft[i] in C[x[i],...,x[n-1]] \n",
    "    #           2. deg_x[i](ft[i]) = 1  for i=0,...,n-2\n",
    "    # Output: T = V(ft)  \n",
    "    n  = len(ft)\n",
    "    rs = nroots(ft[n-1])\n",
    "    T = []\n",
    "    for r in rs:\n",
    "        t = [0]*n\n",
    "        t[n-1] = r\n",
    "        for i in reversed(range(0,n-1)):\n",
    "            h = ft[i].evalf(subs={x[j]:t[j] for j in range(i+1,n)})\n",
    "            t[i] = (-1*h.coeff(x[i],0))/(h.coeff(x[i],1))\n",
    "            t[i] = t[i].evalf()\n",
    "        T.append(t)\n",
    "    return T"
   ]
  },
  {
   "cell_type": "code",
   "execution_count": 12,
   "id": "a4217de6",
   "metadata": {},
   "outputs": [
    {
     "name": "stdout",
     "output_type": "stream",
     "text": [
      "24\n",
      "[-3.31855496623127, 5.05131299462793, -2.48074703463516]\n",
      "[-0.369589756029388, -0.651945470262688, 0.105728970987725]\n",
      "[2.11159217779216 + 0.936596160028845*I, -0.332192466735277 + 2.41675598143077*I, -1.45690081253376 - 0.769331134551695*I]\n",
      "[2.11159217779216 - 0.936596160028845*I, -0.332192466735277 - 2.41675598143077*I, -1.45690081253376 + 0.769331134551695*I]\n",
      "[1.49533985105989 - 0.182712284579206*I, -0.9601952638091 - 2.2523251740944*I, -1.08142637752038 - 0.852945626637716*I]\n",
      "[1.49533985105989 + 0.182712284579206*I, -0.9601952638091 + 2.2523251740944*I, -1.08142637752038 + 0.852945626637716*I]\n",
      "[-2.837470268758 - 1.0918990268572*I, 4.35566777910705 + 1.66668471340794*I, -0.751663131063412 - 2.26488866848911*I]\n",
      "[-2.837470268758 + 1.0918990268572*I, 4.35566777910705 - 1.66668471340794*I, -0.751663131063412 + 2.26488866848911*I]\n",
      "[-0.38177702400897 - 0.346754206489199*I, -2.05441279233601 - 1.07325243252023*I, -0.539964004339602 - 0.669009005276154*I]\n",
      "[-0.38177702400897 + 0.346754206489199*I, -2.05441279233601 + 1.07325243252023*I, -0.539964004339602 + 0.669009005276154*I]\n",
      "[-0.210984373089518 - 0.125986042445329*I, -1.3643968477718 - 1.01023727491345*I, -0.196519385284372 - 0.531699723640083*I]\n",
      "[-0.210984373089518 + 0.125986042445329*I, -1.3643968477718 + 1.01023727491345*I, -0.196519385284372 + 0.531699723640083*I]\n",
      "[0.418838482391125 - 0.201310189534831*I, -1.17047319660834 - 1.96302158899875*I, -0.152686539264746 - 0.897194340224738*I]\n",
      "[0.418838482391125 + 0.201310189534831*I, -1.17047319660834 + 1.96302158899875*I, -0.152686539264746 + 0.897194340224738*I]\n",
      "[1.95361244649758 + 1.8260606946239*I, -0.2383892253179 + 3.3740043484382*I, 0.139753422011078 - 1.88041272685817*I]\n",
      "[1.95361244649758 - 1.8260606946239*I, -0.2383892253179 - 3.3740043484382*I, 0.139753422011078 + 1.88041272685817*I]\n",
      "[0.185341014953528 - 1.63757156151549*I, -2.13124384885122 - 3.08236863059108*I, 0.75802273920453 - 1.23767514002523*I]\n",
      "[0.185341014953528 + 1.63757156151549*I, -2.13124384885122 + 3.08236863059108*I, 0.75802273920453 + 1.23767514002523*I]\n",
      "[-0.344981812539765 + 0.868895443609524*I, 0.450565888663418 - 1.91080245356222*I, 1.04326636480279 - 0.655648101737155*I]\n",
      "[-0.344981812539765 - 0.868895443609524*I, 0.450565888663418 + 1.91080245356222*I, 1.04326636480279 + 0.655648101737155*I]\n",
      "[-1.57923657829116 - 1.46109685287154*I, 2.49454142356741 + 2.36585471998797*I, 1.56767863341287 - 1.12449023448681*I]\n",
      "[-1.57923657829116 + 1.46109685287154*I, 2.49454142356741 - 2.36585471998797*I, 1.56767863341287 + 1.12449023448681*I]\n",
      "[1.03379844512344 + 2.24361108083107*I, -1.24915521209084 + 3.89373515523409*I, 1.85794812239873 - 0.372574069207847*I]\n",
      "[1.03379844512344 - 2.24361108083107*I, -1.24915521209084 - 3.89373515523409*I, 1.85794812239873 + 0.372574069207847*I]\n"
     ]
    }
   ],
   "source": [
    "T = BackSubstitute(ft)\n",
    "print(len(T))\n",
    "for t in T:\n",
    "    print(t)"
   ]
  },
  {
   "cell_type": "markdown",
   "id": "3a5de148",
   "metadata": {},
   "source": [
    "## Choose Solutions"
   ]
  },
  {
   "cell_type": "code",
   "execution_count": 13,
   "id": "f943a686",
   "metadata": {},
   "outputs": [],
   "source": [
    "def ChooseSolutions(f,T):\n",
    "    # In:  f = (f[0],f[1],...f[n-1]) such that\n",
    "    #          f[i] in C[x[0],...,x[n-1]]\n",
    "    #      T = a finite subset of C^n such that\n",
    "    #          T contains v(f)\n",
    "    # Out: S = V(f)\n",
    "    n = len(f)\n",
    "    S = []\n",
    "    for t in T:\n",
    "        err = 0\n",
    "        for i in range(n):\n",
    "            h = f[i].evalf(subs={x[j]:t[j] for j in range(n)})\n",
    "            err = err + abs(h)\n",
    "        if err <= 0.001:\n",
    "            S.append(t)\n",
    "    return S"
   ]
  },
  {
   "cell_type": "code",
   "execution_count": 14,
   "id": "84f8ce81",
   "metadata": {},
   "outputs": [
    {
     "name": "stdout",
     "output_type": "stream",
     "text": [
      "12\n",
      "[-3.31855496623127, 5.05131299462793, -2.48074703463516]\n",
      "[-0.369589756029388, -0.651945470262688, 0.105728970987725]\n",
      "[1.49533985105989 - 0.182712284579206*I, -0.9601952638091 - 2.2523251740944*I, -1.08142637752038 - 0.852945626637716*I]\n",
      "[1.49533985105989 + 0.182712284579206*I, -0.9601952638091 + 2.2523251740944*I, -1.08142637752038 + 0.852945626637716*I]\n",
      "[-0.210984373089518 - 0.125986042445329*I, -1.3643968477718 - 1.01023727491345*I, -0.196519385284372 - 0.531699723640083*I]\n",
      "[-0.210984373089518 + 0.125986042445329*I, -1.3643968477718 + 1.01023727491345*I, -0.196519385284372 + 0.531699723640083*I]\n",
      "[1.95361244649758 + 1.8260606946239*I, -0.2383892253179 + 3.3740043484382*I, 0.139753422011078 - 1.88041272685817*I]\n",
      "[1.95361244649758 - 1.8260606946239*I, -0.2383892253179 - 3.3740043484382*I, 0.139753422011078 + 1.88041272685817*I]\n",
      "[0.185341014953528 - 1.63757156151549*I, -2.13124384885122 - 3.08236863059108*I, 0.75802273920453 - 1.23767514002523*I]\n",
      "[0.185341014953528 + 1.63757156151549*I, -2.13124384885122 + 3.08236863059108*I, 0.75802273920453 + 1.23767514002523*I]\n",
      "[-1.57923657829116 - 1.46109685287154*I, 2.49454142356741 + 2.36585471998797*I, 1.56767863341287 - 1.12449023448681*I]\n",
      "[-1.57923657829116 + 1.46109685287154*I, 2.49454142356741 - 2.36585471998797*I, 1.56767863341287 + 1.12449023448681*I]\n"
     ]
    }
   ],
   "source": [
    "S  = ChooseSolutions(f,T)\n",
    "print(len(S))\n",
    "for s in S:\n",
    "    print(s)"
   ]
  }
 ],
 "metadata": {
  "kernelspec": {
   "display_name": "Python 3 (ipykernel)",
   "language": "python",
   "name": "python3"
  },
  "language_info": {
   "codemirror_mode": {
    "name": "ipython",
    "version": 3
   },
   "file_extension": ".py",
   "mimetype": "text/x-python",
   "name": "python",
   "nbconvert_exporter": "python",
   "pygments_lexer": "ipython3",
   "version": "3.11.4"
  }
 },
 "nbformat": 4,
 "nbformat_minor": 5
}
